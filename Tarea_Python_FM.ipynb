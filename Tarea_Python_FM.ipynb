{
  "nbformat": 4,
  "nbformat_minor": 0,
  "metadata": {
    "colab": {
      "provenance": [],
      "collapsed_sections": [],
      "authorship_tag": "ABX9TyOqhEl+Ufr0LOe18R5Torl1",
      "include_colab_link": true
    },
    "kernelspec": {
      "name": "python3",
      "display_name": "Python 3"
    },
    "language_info": {
      "name": "python"
    }
  },
  "cells": [
    {
      "cell_type": "markdown",
      "metadata": {
        "id": "view-in-github",
        "colab_type": "text"
      },
      "source": [
        "<a href=\"https://colab.research.google.com/github/jofmorenore/TCI_proyecto/blob/main/Tarea_Python_FM.ipynb\" target=\"_parent\"><img src=\"https://colab.research.google.com/assets/colab-badge.svg\" alt=\"Open In Colab\"/></a>"
      ]
    },
    {
      "cell_type": "markdown",
      "source": [
        "# Python\n",
        "\n",
        "+ 1. Revise todas las lecciones de programación en Python.\n",
        "+ 2. Escriba un cuaderno que contenga dos ejercicios propuestos y resueltos de colecciones, en los cuales utilice los diferentes métodos asociados a cada tipo de colección.\n",
        "+ 3. Escriba un archivo de excel o csv con la información de cuentas bancarias que contiene la siguiente información: número de cuenta, nombre del cliente, saldo_actual, fecha última transacción. Coloque el archivo en alguna dirección url. Por ejemplo en su repositorio de Github.\n",
        "+ 4. Escriba un cuadernos en donde implemente  una clase  iterable  que haga lo siguiente: \n",
        "  + a) al inicio abra el archivo y lo suba a un dataframe de Pandas.\n",
        "  + b) Entregue la información de la siguiente cuenta cuando se le pida el siguiente dato.\n",
        "\n"
      ],
      "metadata": {
        "id": "jKhrzRLKD77-"
      }
    },
    {
      "cell_type": "markdown",
      "source": [
        "## Solución\n",
        "\n",
        "+ 2.       \n",
        "      + Ejercicio 1: Investigue que significa unhashable. Busque la función hash() y úsela en este contexto.\n",
        "      + Ejercicio 2: Defina un diccionario de al menos 4 llaves de tal manera que esas llaves sean tuplas. Acceda a cada elemento. ¿Puede hacer lo mismo para una llave que sea definida como lista o diccionario? "
      ],
      "metadata": {
        "id": "sc-mwg4-MUw8"
      }
    },
    {
      "cell_type": "markdown",
      "source": [
        "Un objeto es hashable si tiene un valor hash que nunca cambia durante su vida útil, y se puede comparar con otros objetos. Luego unhasable significa que no puede ser usado para generar hash (un valor que no cambie durante su vida útil)."
      ],
      "metadata": {
        "id": "0RcQ2ZHQM-RG"
      }
    },
    {
      "cell_type": "code",
      "execution_count": 15,
      "metadata": {
        "colab": {
          "base_uri": "https://localhost:8080/"
        },
        "id": "hjYR52Y_D4wU",
        "outputId": "5ce0884d-13fd-4f41-e61f-77adeb6d2eae"
      },
      "outputs": [
        {
          "output_type": "execute_result",
          "data": {
            "text/plain": [
              "{'vocales': ['a', 'e', 'i', 'o', 'u'], 'operaciones': ['+', '-', '*', '/']}"
            ]
          },
          "metadata": {},
          "execution_count": 15
        }
      ],
      "source": [
        "my_dic=dict(\n",
        "    vocales = ['a','e','i','o','u'],\n",
        "    operaciones = ['+','-', '*', '/']\n",
        "    )\n",
        "my_dic"
      ]
    },
    {
      "cell_type": "code",
      "source": [
        "for i in range(5):\n",
        "  print('The hash is:', hash(my_dic['vocales'][i]))"
      ],
      "metadata": {
        "colab": {
          "base_uri": "https://localhost:8080/"
        },
        "id": "jA2X75dIRYfc",
        "outputId": "0976761b-7cf6-4d3d-fd27-59f3c9d5cbd0"
      },
      "execution_count": 16,
      "outputs": [
        {
          "output_type": "stream",
          "name": "stdout",
          "text": [
            "The hash is: 6025836453684592486\n",
            "The hash is: 1340451882769065176\n",
            "The hash is: -2856304955422632271\n",
            "The hash is: -1400178648041602850\n",
            "The hash is: -5755227097035030220\n"
          ]
        }
      ]
    },
    {
      "cell_type": "code",
      "source": [
        "my_dic2 = {\n",
        "    ('animals', 'animales'):  ['Pig', 'Dog', 'Sheep'],\n",
        "    ('people', 'personas'):  ['Roger', 'David', 'Syd'],\n",
        "    ('cities', 'ciudades'):  ['London', 'Cambridge'],\n",
        "    ('instruments', 'instrumentos'):  ['Bass', 'Guitar', 'Drum']\n",
        "}\n",
        "my_dic2"
      ],
      "metadata": {
        "colab": {
          "base_uri": "https://localhost:8080/"
        },
        "id": "H6PuF-ftSW0A",
        "outputId": "d42aeaeb-d796-4d42-cf46-006e762c9203"
      },
      "execution_count": 17,
      "outputs": [
        {
          "output_type": "execute_result",
          "data": {
            "text/plain": [
              "{('animals', 'animales'): ['Pig', 'Dog', 'Sheep'],\n",
              " ('people', 'personas'): ['Roger', 'David', 'Syd'],\n",
              " ('cities', 'ciudades'): ['London', 'Cambridge'],\n",
              " ('instruments', 'instrumentos'): ['Bass', 'Guitar', 'Drum']}"
            ]
          },
          "metadata": {},
          "execution_count": 17
        }
      ]
    },
    {
      "cell_type": "code",
      "source": [
        "for i in my_dic2.keys():\n",
        "  for j in range(len(my_dic2[i])):\n",
        "    print(my_dic2[i][j])"
      ],
      "metadata": {
        "colab": {
          "base_uri": "https://localhost:8080/"
        },
        "id": "1jqxTxnaYDrt",
        "outputId": "0f94fea1-4858-47a2-c7ba-1c42e0ab1ca0"
      },
      "execution_count": 18,
      "outputs": [
        {
          "output_type": "stream",
          "name": "stdout",
          "text": [
            "Pig\n",
            "Dog\n",
            "Sheep\n",
            "Roger\n",
            "David\n",
            "Syd\n",
            "London\n",
            "Cambridge\n",
            "Bass\n",
            "Guitar\n",
            "Drum\n"
          ]
        }
      ]
    },
    {
      "cell_type": "code",
      "source": [
        "my_dic3 = {\n",
        "    ['animals', 'animales']:  ['Pig', 'Dog', 'Sheep'],\n",
        "    ['people', 'personas']:  ['Roger', 'David', 'Syd'],\n",
        "    ['cities', 'ciudades']:  ['London', 'Cambridge'],\n",
        "    ['instruments', 'instrumentos']:  ['Bass', 'Guitar', 'Drum']\n",
        "}\n",
        "my_dic3"
      ],
      "metadata": {
        "colab": {
          "base_uri": "https://localhost:8080/",
          "height": 235
        },
        "id": "Xd3s5hntaMjs",
        "outputId": "bd85f1a3-129c-4c5f-9c7f-44f9f8bf494c"
      },
      "execution_count": 19,
      "outputs": [
        {
          "output_type": "error",
          "ename": "TypeError",
          "evalue": "ignored",
          "traceback": [
            "\u001b[0;31m---------------------------------------------------------------------------\u001b[0m",
            "\u001b[0;31mTypeError\u001b[0m                                 Traceback (most recent call last)",
            "\u001b[0;32m<ipython-input-19-653c574d0f1b>\u001b[0m in \u001b[0;36m<module>\u001b[0;34m\u001b[0m\n\u001b[1;32m      3\u001b[0m     \u001b[0;34m[\u001b[0m\u001b[0;34m'people'\u001b[0m\u001b[0;34m,\u001b[0m \u001b[0;34m'personas'\u001b[0m\u001b[0;34m]\u001b[0m\u001b[0;34m:\u001b[0m  \u001b[0;34m[\u001b[0m\u001b[0;34m'Roger'\u001b[0m\u001b[0;34m,\u001b[0m \u001b[0;34m'David'\u001b[0m\u001b[0;34m,\u001b[0m \u001b[0;34m'Syd'\u001b[0m\u001b[0;34m]\u001b[0m\u001b[0;34m,\u001b[0m\u001b[0;34m\u001b[0m\u001b[0;34m\u001b[0m\u001b[0m\n\u001b[1;32m      4\u001b[0m     \u001b[0;34m[\u001b[0m\u001b[0;34m'cities'\u001b[0m\u001b[0;34m,\u001b[0m \u001b[0;34m'ciudades'\u001b[0m\u001b[0;34m]\u001b[0m\u001b[0;34m:\u001b[0m  \u001b[0;34m[\u001b[0m\u001b[0;34m'London'\u001b[0m\u001b[0;34m,\u001b[0m \u001b[0;34m'Cambridge'\u001b[0m\u001b[0;34m]\u001b[0m\u001b[0;34m,\u001b[0m\u001b[0;34m\u001b[0m\u001b[0;34m\u001b[0m\u001b[0m\n\u001b[0;32m----> 5\u001b[0;31m     \u001b[0;34m[\u001b[0m\u001b[0;34m'instruments'\u001b[0m\u001b[0;34m,\u001b[0m \u001b[0;34m'instrumentos'\u001b[0m\u001b[0;34m]\u001b[0m\u001b[0;34m:\u001b[0m  \u001b[0;34m[\u001b[0m\u001b[0;34m'Bass'\u001b[0m\u001b[0;34m,\u001b[0m \u001b[0;34m'Guitar'\u001b[0m\u001b[0;34m,\u001b[0m \u001b[0;34m'Drum'\u001b[0m\u001b[0;34m]\u001b[0m\u001b[0;34m\u001b[0m\u001b[0;34m\u001b[0m\u001b[0m\n\u001b[0m\u001b[1;32m      6\u001b[0m }\n\u001b[1;32m      7\u001b[0m \u001b[0mmy_dic3\u001b[0m\u001b[0;34m\u001b[0m\u001b[0;34m\u001b[0m\u001b[0m\n",
            "\u001b[0;31mTypeError\u001b[0m: unhashable type: 'list'"
          ]
        }
      ]
    },
    {
      "cell_type": "code",
      "source": [
        "my_dic4 = {\n",
        "    {'a0':'animals'}:  ['Pig', 'Dog', 'Sheep'],\n",
        "    {'b0': 'people'}:  ['Roger', 'David', 'Syd'],\n",
        "    {'c0':'cities'}:  ['London', 'Cambridge'],\n",
        "    {'d0':'instruments'}:  ['Bass', 'Guitar', 'Drum']\n",
        "}\n",
        "my_dic4"
      ],
      "metadata": {
        "colab": {
          "base_uri": "https://localhost:8080/",
          "height": 235
        },
        "id": "8yFOu0fYa0XN",
        "outputId": "627248cc-7b36-4182-90ab-30a1a891dfd1"
      },
      "execution_count": 20,
      "outputs": [
        {
          "output_type": "error",
          "ename": "TypeError",
          "evalue": "ignored",
          "traceback": [
            "\u001b[0;31m---------------------------------------------------------------------------\u001b[0m",
            "\u001b[0;31mTypeError\u001b[0m                                 Traceback (most recent call last)",
            "\u001b[0;32m<ipython-input-20-75d06b383f4a>\u001b[0m in \u001b[0;36m<module>\u001b[0;34m\u001b[0m\n\u001b[1;32m      3\u001b[0m     \u001b[0;34m{\u001b[0m\u001b[0;34m'b0'\u001b[0m\u001b[0;34m:\u001b[0m \u001b[0;34m'people'\u001b[0m\u001b[0;34m}\u001b[0m\u001b[0;34m:\u001b[0m  \u001b[0;34m[\u001b[0m\u001b[0;34m'Roger'\u001b[0m\u001b[0;34m,\u001b[0m \u001b[0;34m'David'\u001b[0m\u001b[0;34m,\u001b[0m \u001b[0;34m'Syd'\u001b[0m\u001b[0;34m]\u001b[0m\u001b[0;34m,\u001b[0m\u001b[0;34m\u001b[0m\u001b[0;34m\u001b[0m\u001b[0m\n\u001b[1;32m      4\u001b[0m     \u001b[0;34m{\u001b[0m\u001b[0;34m'c0'\u001b[0m\u001b[0;34m:\u001b[0m\u001b[0;34m'cities'\u001b[0m\u001b[0;34m}\u001b[0m\u001b[0;34m:\u001b[0m  \u001b[0;34m[\u001b[0m\u001b[0;34m'London'\u001b[0m\u001b[0;34m,\u001b[0m \u001b[0;34m'Cambridge'\u001b[0m\u001b[0;34m]\u001b[0m\u001b[0;34m,\u001b[0m\u001b[0;34m\u001b[0m\u001b[0;34m\u001b[0m\u001b[0m\n\u001b[0;32m----> 5\u001b[0;31m     \u001b[0;34m{\u001b[0m\u001b[0;34m'd0'\u001b[0m\u001b[0;34m:\u001b[0m\u001b[0;34m'instruments'\u001b[0m\u001b[0;34m}\u001b[0m\u001b[0;34m:\u001b[0m  \u001b[0;34m[\u001b[0m\u001b[0;34m'Bass'\u001b[0m\u001b[0;34m,\u001b[0m \u001b[0;34m'Guitar'\u001b[0m\u001b[0;34m,\u001b[0m \u001b[0;34m'Drum'\u001b[0m\u001b[0;34m]\u001b[0m\u001b[0;34m\u001b[0m\u001b[0;34m\u001b[0m\u001b[0m\n\u001b[0m\u001b[1;32m      6\u001b[0m }\n\u001b[1;32m      7\u001b[0m \u001b[0mmy_dic4\u001b[0m\u001b[0;34m\u001b[0m\u001b[0;34m\u001b[0m\u001b[0m\n",
            "\u001b[0;31mTypeError\u001b[0m: unhashable type: 'dict'"
          ]
        }
      ]
    },
    {
      "cell_type": "markdown",
      "source": [
        "De acuerdo a las salidas anteriores se verifica que no se puede definir un diccionario con llaves que sean listas o diccionarios."
      ],
      "metadata": {
        "id": "0edW0ecQaney"
      }
    },
    {
      "cell_type": "markdown",
      "source": [
        "+ 3."
      ],
      "metadata": {
        "id": "7WyT2ftrmAaB"
      }
    },
    {
      "cell_type": "code",
      "source": [
        "import pandas as pd\n",
        "import numpy as np\n",
        "import random\n",
        "import datetime\n",
        "import string"
      ],
      "metadata": {
        "id": "tisFnsU_mSyR"
      },
      "execution_count": 21,
      "outputs": []
    },
    {
      "cell_type": "code",
      "source": [
        "cuentas_bancarias = pd.DataFrame() "
      ],
      "metadata": {
        "id": "UyEfTh14mCJP"
      },
      "execution_count": 22,
      "outputs": []
    },
    {
      "cell_type": "code",
      "source": [
        "random.seed(20922)\n",
        "cuentas_bancarias['numero_cuenta'] = [random.randint(10**7,10*10**7) for i in range(11)]\n",
        "cuentas_bancarias['nombre_cliente'] = [string.ascii_uppercase[random.randint(0,26)]+'.'+string.ascii_uppercase[random.randint(0,26)]+'.' for i in range(11)]\n",
        "cuentas_bancarias['saldo_actual'] = [random.randint(0,10**7) for i in range(11)]\n",
        "cuentas_bancarias['fecha última transacción'] = [datetime.date(random.randint(2015,2022), random.randint(1,12), random.randint(1,28)) for i in range(11)]\n",
        "cuentas_bancarias"
      ],
      "metadata": {
        "colab": {
          "base_uri": "https://localhost:8080/",
          "height": 394
        },
        "id": "RU47Zr97vbpi",
        "outputId": "76a6919f-be42-46dd-c10f-c90fa5bb2b83"
      },
      "execution_count": 23,
      "outputs": [
        {
          "output_type": "execute_result",
          "data": {
            "text/plain": [
              "    numero_cuenta nombre_cliente  saldo_actual fecha última transacción\n",
              "0        46479307           L.U.       5503277               2015-03-08\n",
              "1        11002835           H.Y.       4736715               2022-08-19\n",
              "2        49399742           E.T.       8237084               2015-02-03\n",
              "3        13701118           M.I.       3556675               2016-12-13\n",
              "4        27363868           C.V.       2300397               2015-12-11\n",
              "5        24851202           J.A.        333361               2017-07-12\n",
              "6        57912859           Z.M.        250392               2020-10-10\n",
              "7        99315719           R.O.       2019542               2021-04-15\n",
              "8        98844127           Z.C.       6519047               2016-10-16\n",
              "9        34176698           T.M.       8901422               2022-05-06\n",
              "10       81619991           B.S.       5066858               2016-03-11"
            ],
            "text/html": [
              "\n",
              "  <div id=\"df-3870d589-1643-4397-aa4b-32e2345a7d10\">\n",
              "    <div class=\"colab-df-container\">\n",
              "      <div>\n",
              "<style scoped>\n",
              "    .dataframe tbody tr th:only-of-type {\n",
              "        vertical-align: middle;\n",
              "    }\n",
              "\n",
              "    .dataframe tbody tr th {\n",
              "        vertical-align: top;\n",
              "    }\n",
              "\n",
              "    .dataframe thead th {\n",
              "        text-align: right;\n",
              "    }\n",
              "</style>\n",
              "<table border=\"1\" class=\"dataframe\">\n",
              "  <thead>\n",
              "    <tr style=\"text-align: right;\">\n",
              "      <th></th>\n",
              "      <th>numero_cuenta</th>\n",
              "      <th>nombre_cliente</th>\n",
              "      <th>saldo_actual</th>\n",
              "      <th>fecha última transacción</th>\n",
              "    </tr>\n",
              "  </thead>\n",
              "  <tbody>\n",
              "    <tr>\n",
              "      <th>0</th>\n",
              "      <td>46479307</td>\n",
              "      <td>L.U.</td>\n",
              "      <td>5503277</td>\n",
              "      <td>2015-03-08</td>\n",
              "    </tr>\n",
              "    <tr>\n",
              "      <th>1</th>\n",
              "      <td>11002835</td>\n",
              "      <td>H.Y.</td>\n",
              "      <td>4736715</td>\n",
              "      <td>2022-08-19</td>\n",
              "    </tr>\n",
              "    <tr>\n",
              "      <th>2</th>\n",
              "      <td>49399742</td>\n",
              "      <td>E.T.</td>\n",
              "      <td>8237084</td>\n",
              "      <td>2015-02-03</td>\n",
              "    </tr>\n",
              "    <tr>\n",
              "      <th>3</th>\n",
              "      <td>13701118</td>\n",
              "      <td>M.I.</td>\n",
              "      <td>3556675</td>\n",
              "      <td>2016-12-13</td>\n",
              "    </tr>\n",
              "    <tr>\n",
              "      <th>4</th>\n",
              "      <td>27363868</td>\n",
              "      <td>C.V.</td>\n",
              "      <td>2300397</td>\n",
              "      <td>2015-12-11</td>\n",
              "    </tr>\n",
              "    <tr>\n",
              "      <th>5</th>\n",
              "      <td>24851202</td>\n",
              "      <td>J.A.</td>\n",
              "      <td>333361</td>\n",
              "      <td>2017-07-12</td>\n",
              "    </tr>\n",
              "    <tr>\n",
              "      <th>6</th>\n",
              "      <td>57912859</td>\n",
              "      <td>Z.M.</td>\n",
              "      <td>250392</td>\n",
              "      <td>2020-10-10</td>\n",
              "    </tr>\n",
              "    <tr>\n",
              "      <th>7</th>\n",
              "      <td>99315719</td>\n",
              "      <td>R.O.</td>\n",
              "      <td>2019542</td>\n",
              "      <td>2021-04-15</td>\n",
              "    </tr>\n",
              "    <tr>\n",
              "      <th>8</th>\n",
              "      <td>98844127</td>\n",
              "      <td>Z.C.</td>\n",
              "      <td>6519047</td>\n",
              "      <td>2016-10-16</td>\n",
              "    </tr>\n",
              "    <tr>\n",
              "      <th>9</th>\n",
              "      <td>34176698</td>\n",
              "      <td>T.M.</td>\n",
              "      <td>8901422</td>\n",
              "      <td>2022-05-06</td>\n",
              "    </tr>\n",
              "    <tr>\n",
              "      <th>10</th>\n",
              "      <td>81619991</td>\n",
              "      <td>B.S.</td>\n",
              "      <td>5066858</td>\n",
              "      <td>2016-03-11</td>\n",
              "    </tr>\n",
              "  </tbody>\n",
              "</table>\n",
              "</div>\n",
              "      <button class=\"colab-df-convert\" onclick=\"convertToInteractive('df-3870d589-1643-4397-aa4b-32e2345a7d10')\"\n",
              "              title=\"Convert this dataframe to an interactive table.\"\n",
              "              style=\"display:none;\">\n",
              "        \n",
              "  <svg xmlns=\"http://www.w3.org/2000/svg\" height=\"24px\"viewBox=\"0 0 24 24\"\n",
              "       width=\"24px\">\n",
              "    <path d=\"M0 0h24v24H0V0z\" fill=\"none\"/>\n",
              "    <path d=\"M18.56 5.44l.94 2.06.94-2.06 2.06-.94-2.06-.94-.94-2.06-.94 2.06-2.06.94zm-11 1L8.5 8.5l.94-2.06 2.06-.94-2.06-.94L8.5 2.5l-.94 2.06-2.06.94zm10 10l.94 2.06.94-2.06 2.06-.94-2.06-.94-.94-2.06-.94 2.06-2.06.94z\"/><path d=\"M17.41 7.96l-1.37-1.37c-.4-.4-.92-.59-1.43-.59-.52 0-1.04.2-1.43.59L10.3 9.45l-7.72 7.72c-.78.78-.78 2.05 0 2.83L4 21.41c.39.39.9.59 1.41.59.51 0 1.02-.2 1.41-.59l7.78-7.78 2.81-2.81c.8-.78.8-2.07 0-2.86zM5.41 20L4 18.59l7.72-7.72 1.47 1.35L5.41 20z\"/>\n",
              "  </svg>\n",
              "      </button>\n",
              "      \n",
              "  <style>\n",
              "    .colab-df-container {\n",
              "      display:flex;\n",
              "      flex-wrap:wrap;\n",
              "      gap: 12px;\n",
              "    }\n",
              "\n",
              "    .colab-df-convert {\n",
              "      background-color: #E8F0FE;\n",
              "      border: none;\n",
              "      border-radius: 50%;\n",
              "      cursor: pointer;\n",
              "      display: none;\n",
              "      fill: #1967D2;\n",
              "      height: 32px;\n",
              "      padding: 0 0 0 0;\n",
              "      width: 32px;\n",
              "    }\n",
              "\n",
              "    .colab-df-convert:hover {\n",
              "      background-color: #E2EBFA;\n",
              "      box-shadow: 0px 1px 2px rgba(60, 64, 67, 0.3), 0px 1px 3px 1px rgba(60, 64, 67, 0.15);\n",
              "      fill: #174EA6;\n",
              "    }\n",
              "\n",
              "    [theme=dark] .colab-df-convert {\n",
              "      background-color: #3B4455;\n",
              "      fill: #D2E3FC;\n",
              "    }\n",
              "\n",
              "    [theme=dark] .colab-df-convert:hover {\n",
              "      background-color: #434B5C;\n",
              "      box-shadow: 0px 1px 3px 1px rgba(0, 0, 0, 0.15);\n",
              "      filter: drop-shadow(0px 1px 2px rgba(0, 0, 0, 0.3));\n",
              "      fill: #FFFFFF;\n",
              "    }\n",
              "  </style>\n",
              "\n",
              "      <script>\n",
              "        const buttonEl =\n",
              "          document.querySelector('#df-3870d589-1643-4397-aa4b-32e2345a7d10 button.colab-df-convert');\n",
              "        buttonEl.style.display =\n",
              "          google.colab.kernel.accessAllowed ? 'block' : 'none';\n",
              "\n",
              "        async function convertToInteractive(key) {\n",
              "          const element = document.querySelector('#df-3870d589-1643-4397-aa4b-32e2345a7d10');\n",
              "          const dataTable =\n",
              "            await google.colab.kernel.invokeFunction('convertToInteractive',\n",
              "                                                     [key], {});\n",
              "          if (!dataTable) return;\n",
              "\n",
              "          const docLinkHtml = 'Like what you see? Visit the ' +\n",
              "            '<a target=\"_blank\" href=https://colab.research.google.com/notebooks/data_table.ipynb>data table notebook</a>'\n",
              "            + ' to learn more about interactive tables.';\n",
              "          element.innerHTML = '';\n",
              "          dataTable['output_type'] = 'display_data';\n",
              "          await google.colab.output.renderOutput(dataTable, element);\n",
              "          const docLink = document.createElement('div');\n",
              "          docLink.innerHTML = docLinkHtml;\n",
              "          element.appendChild(docLink);\n",
              "        }\n",
              "      </script>\n",
              "    </div>\n",
              "  </div>\n",
              "  "
            ]
          },
          "metadata": {},
          "execution_count": 23
        }
      ]
    },
    {
      "cell_type": "code",
      "source": [
        "cuentas_bancarias.to_csv(r'Cuentas_Bancarias_FM.csv')"
      ],
      "metadata": {
        "id": "hkBFUoapz37-"
      },
      "execution_count": 32,
      "outputs": []
    }
  ]
}