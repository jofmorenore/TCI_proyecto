{
 "cells": [
  {
   "cell_type": "markdown",
   "id": "2f1cbbb4-f63b-4351-bf80-36ca44d97eb6",
   "metadata": {},
   "source": [
    "# <span style=\"color:green\"><center> Métodos de Computación Intensiva </center></span>"
   ]
  },
  {
   "cell_type": "markdown",
   "id": "d05e1909-4067-4ae6-a56c-449782e486ed",
   "metadata": {},
   "source": [
    "# Instalación de un ambiente nuevo, Jupyter Lab y Sklearn"
   ]
  },
  {
   "cell_type": "markdown",
   "id": "30a5563f-ce48-4d3e-be79-28e9bb573e83",
   "metadata": {
    "tags": []
   },
   "source": [
    "Este cuaderno contiene símbolos $\\LaTeX$, <span style=\"color:red\"> HTML </span> y ***markdown***. \n",
    "Además se incluyen los siguientes enlaces: [link vídeo](https://youtu.be/YZAqyIIrwns)\n",
    "![imagen](https://i.pinimg.com/736x/18/8c/fd/188cfdcbb18968fd9135c8ff3a5d8cd4.jpg)"
   ]
  },
  {
   "cell_type": "code",
   "execution_count": 2,
   "id": "3fccc6a8-75dd-48ab-ad7d-4456cf3d066f",
   "metadata": {
    "tags": []
   },
   "outputs": [
    {
     "name": "stdout",
     "output_type": "stream",
     "text": [
      "# conda environments:\n",
      "#\n",
      "base                     /home/fm/anaconda3\n",
      "TCI_FM                *  /home/fm/anaconda3/envs/TCI_FM\n",
      "d2l_fw                   /home/fm/anaconda3/envs/d2l_fw\n",
      "\n"
     ]
    }
   ],
   "source": [
    "!conda env list"
   ]
  },
  {
   "cell_type": "code",
   "execution_count": 1,
   "id": "b4d6c45e-dbeb-4f02-bd5c-9b98554028a4",
   "metadata": {},
   "outputs": [
    {
     "name": "stdout",
     "output_type": "stream",
     "text": [
      "Python 3.8.13\n"
     ]
    }
   ],
   "source": [
    "!python --version"
   ]
  },
  {
   "cell_type": "code",
   "execution_count": 5,
   "id": "a7be8fc1-0977-46a2-a83c-54e243108ee8",
   "metadata": {},
   "outputs": [
    {
     "name": "stdout",
     "output_type": "stream",
     "text": [
      "1.1.2\n"
     ]
    }
   ],
   "source": [
    "import sklearn\n",
    "print(sklearn.__version__)"
   ]
  }
 ],
 "metadata": {
  "kernelspec": {
   "display_name": "Python 3 (ipykernel)",
   "language": "python",
   "name": "python3"
  },
  "language_info": {
   "codemirror_mode": {
    "name": "ipython",
    "version": 3
   },
   "file_extension": ".py",
   "mimetype": "text/x-python",
   "name": "python",
   "nbconvert_exporter": "python",
   "pygments_lexer": "ipython3",
   "version": "3.8.13"
  }
 },
 "nbformat": 4,
 "nbformat_minor": 5
}
